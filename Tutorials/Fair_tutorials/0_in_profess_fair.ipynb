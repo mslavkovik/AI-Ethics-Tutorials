{
 "cells": [
  {
   "cell_type": "markdown",
   "metadata": {},
   "source": [
    "# Performing in processing bias migitagation with Gerry Fair Classifier on German Credit Dataset #\n",
    "In this example, we will show the bias in the dataset for German Credits regarding the age. To pharaphrase in the dataset, disregarding all other features, people younger than 25 are less likely to be granted a loan). After that we will train a superivised learning model based on the biased dataset without any migitaition measure. The model will then be evaluated for statistical parity difference. \n",
    "\n",
    "Lastly, Gerry Fair Classifier which mitigates the bias in the training of the machine learning model (thus in process migtigation) is trained and the results in statistial parity difference are compared.\n",
    "\n",
    "For details about the Gerry Fair Classifier it in in this paper https://proceedings.mlr.press/v80/kearns18a.html. GerryFairClassifier attempts to fix fairness gerrymandering with defining respect to rich classes of subgroups many/possibily infite subgroups and provided a exponential algorithm to calculate fairness for subgroups. The algorithm is based on a formulation of subgroup fairness as a zero-sum game between a Learner (the primal player) and an Auditor (the dual player). "
   ]
  },
  {
   "cell_type": "code",
   "execution_count": null,
   "metadata": {},
   "outputs": [],
   "source": []
  },
  {
   "cell_type": "markdown",
   "metadata": {},
   "source": [
    "### [done] Improvements to be made\n",
    "1. Where is the bias coming from in this particular example \n",
    "2. May be other protected attributes than Age \n",
    "3. use in-processing mitigation instead (they uses pre-processing)\n",
    "4. more fairness matrices or more visualization of it \n",
    "5. explain the supervised learning algorithm used clearer\n"
   ]
  },
  {
   "cell_type": "markdown",
   "metadata": {},
   "source": [
    "### Steps in the tutorial\n",
    "1. Installing required packages \n",
    "2. Loading the dataset and studying the dataset.\n",
    "3. Demonstrating bias in the dataset for age two groups younger than 25 and equal or older than 25.\n",
    "4. The ML models can learn this bias.\n",
    "5. Migitating bias using GerryFairClassifier in process migitation.\n",
    "6. Demonstrating the bias removal\n"
   ]
  },
  {
   "cell_type": "markdown",
   "metadata": {},
   "source": [
    "## Step 1: Installing required packages\n",
    "Installing Aif360 on Anaconda.\n",
    "Open conda prompt and run.\n",
    "\n",
    "    conda install -c conda-forge aif360 fairlearn"
   ]
  },
  {
   "cell_type": "markdown",
   "metadata": {},
   "source": [
    "## Step 2: Loading the dataset ##\n",
    "\n",
    "In order to get the German Credit Dataset, download the following files when prompted and put it in the folder that is specified in the error messages. \n",
    "\n",
    "USE OUR VERSION OF THE GERMAN DATASET.\n",
    "We have to use our version of the German Dataset which the labelled are set to 0 and 1 (instead of 1 and 2) so that GerryFairClassifier will work. \n",
    "\n",
    "It can be curretly downloaded here.\n",
    "\n",
    "### Copy OUR german dataset ### \n",
    "On the first time of loading the German dataset, you will be promoted to download the dataset from the source and put it in the correct folder. \n",
    "Our example requires a slightly modified version of the German credit dataset. Therefore, copy data/german from our example folder and put it in the folder prompted. \n",
    "\n",
    "The folder is usually [anacondabase]\\Lib\\site-packages\\aif360\\data\\raw\\german\n",
    "\n",
    "The fields in the german dataset are.\n",
    "['status', 'month', 'credit_history',\n",
    "    'purpose', 'credit_amount', 'savings', 'employment',\n",
    "    'investment_as_income_percentage', 'personal_status',\n",
    "    'other_debtors', 'residence_since', 'property', 'age',\n",
    "    'installment_plans', 'housing', 'number_of_credits',\n",
    "    'skill_level', 'people_liable_for', 'telephone',\n",
    "    'foreign_worker']\n",
    "\n",
    "And the label is 0 for not being creditworth and 1 for credit worthiness.\n",
    "\n",
    "\n",
    "\n",
    "### Age is the protected attribute in our example. \n",
    "By default, this code converts the ‘age’ attribute to a binary value where privileged is age >= 25 and unprivileged is age < 25 as proposed by Kamiran and Calders.\n",
    "\n"
   ]
  },
  {
   "cell_type": "code",
   "execution_count": 78,
   "metadata": {},
   "outputs": [],
   "source": [
    "%matplotlib inline\n",
    "import warnings\n",
    "warnings.filterwarnings(\"ignore\")\n",
    "\n",
    "# Load all necessary packages\n",
    "import sys\n",
    "sys.path.insert(1, \"../\")  \n",
    "from IPython.display import Markdown, display\n",
    "\n",
    "import numpy as np\n",
    "import pandas as pd\n",
    "\n",
    "from aif360.datasets import GermanDataset\n",
    "from aif360.metrics import BinaryLabelDatasetMetric\n",
    "from aif360.algorithms.inprocessing import GerryFairClassifier\n",
    "\n",
    "from common_utils import extract_df_from_ds\n"
   ]
  },
  {
   "cell_type": "code",
   "execution_count": 79,
   "metadata": {},
   "outputs": [],
   "source": [
    "# the german dataset where is the bias coming from\n",
    "# source is https://archive.ics.uci.edu/ml/datasets/Statlog+%28German+Credit+Data%29 \n",
    "# a small dataset with 20 attributes and 1000 samples \n",
    "# the attributes are as follows\n",
    "\n",
    "#dataset_german = GermanDataset()\n",
    "\n",
    "modified_mappings = {\n",
    "    'label_maps': [{0.0: 'Good Credit', 1.0: 'Bad Credit'}],\n",
    "    'protected_attribute_maps': [{1.0: 'Old', 0.0: 'Young'}],\n",
    "}\n",
    "\n",
    "dataset_german = GermanDataset(\n",
    "    protected_attribute_names=['age'],           # this dataset also contains protected\n",
    "                                                 # attribute for \"sex\" which we do not\n",
    "                                                 # consider in this evaluation\n",
    "    privileged_classes=[lambda x: x >= 25],      # age >=25 is considered privileged\n",
    "    features_to_drop=['personal_status', 'sex'], # ignore sex-related attributes\n",
    "    metadata=modified_mappings ## IMPORTANT set the mappings correctly\n",
    ")"
   ]
  },
  {
   "cell_type": "code",
   "execution_count": 80,
   "metadata": {},
   "outputs": [
    {
     "data": {
      "text/plain": [
       "(['month',\n",
       "  'credit_amount',\n",
       "  'investment_as_income_percentage',\n",
       "  'residence_since',\n",
       "  'age',\n",
       "  'number_of_credits',\n",
       "  'people_liable_for',\n",
       "  'status=A11',\n",
       "  'status=A12',\n",
       "  'status=A13',\n",
       "  'status=A14',\n",
       "  'credit_history=A30',\n",
       "  'credit_history=A31',\n",
       "  'credit_history=A32',\n",
       "  'credit_history=A33',\n",
       "  'credit_history=A34',\n",
       "  'purpose=A40',\n",
       "  'purpose=A41',\n",
       "  'purpose=A410',\n",
       "  'purpose=A42',\n",
       "  'purpose=A43',\n",
       "  'purpose=A44',\n",
       "  'purpose=A45',\n",
       "  'purpose=A46',\n",
       "  'purpose=A48',\n",
       "  'purpose=A49',\n",
       "  'savings=A61',\n",
       "  'savings=A62',\n",
       "  'savings=A63',\n",
       "  'savings=A64',\n",
       "  'savings=A65',\n",
       "  'employment=A71',\n",
       "  'employment=A72',\n",
       "  'employment=A73',\n",
       "  'employment=A74',\n",
       "  'employment=A75',\n",
       "  'other_debtors=A101',\n",
       "  'other_debtors=A102',\n",
       "  'other_debtors=A103',\n",
       "  'property=A121',\n",
       "  'property=A122',\n",
       "  'property=A123',\n",
       "  'property=A124',\n",
       "  'installment_plans=A141',\n",
       "  'installment_plans=A142',\n",
       "  'installment_plans=A143',\n",
       "  'housing=A151',\n",
       "  'housing=A152',\n",
       "  'housing=A153',\n",
       "  'skill_level=A171',\n",
       "  'skill_level=A172',\n",
       "  'skill_level=A173',\n",
       "  'skill_level=A174',\n",
       "  'telephone=A191',\n",
       "  'telephone=A192',\n",
       "  'foreign_worker=A201',\n",
       "  'foreign_worker=A202'],\n",
       " ['credit'])"
      ]
     },
     "execution_count": 80,
     "metadata": {},
     "output_type": "execute_result"
    }
   ],
   "source": [
    "dataset_german.feature_names, dataset_german.label_names"
   ]
  },
  {
   "cell_type": "markdown",
   "metadata": {},
   "source": [
    "## 3. Demonstrating bias in the dataset regarding age groups. ##\n",
    "\n",
    "To measure the bias in the dataset, We will use BinaryLabelDatasetMetric on the dataset. BinaryLabelDatasetMetric can be used on datasete where the unprivileged group and privileged groups are labelled by binary value 0 or 1. The age attribute in our dataset is encoded to be\n",
    "\n",
    "* privileged group age > 25 as 1 \n",
    "* unprivileged groups age <= 25 as 0\n",
    "    \n",
    "Mean_difference is the statistical parity difference. Mean_difference computers the differences in value between probablity of favourable outcome (that is to be classified as good credit application with favourable label 1) between unprivileged and privileged groups in the dataset. It is computed using the formula below.\n",
    "Pr(Y^=pos_label|D=unprivileged)−Pr(Y^=pos_label|D=privileged)\n",
    "\n",
    "In our training dateset, the mean_difference value is 0.193645 meanting that in the data the probablity of unprevileged group getting their loan approved is around 19% lower than that of the privileged group! Note that mean_diference value will be slightly different for each selection of the training dataset. It is because selecting 70% of the dataset to train the data on is random everytime it is there. However, the bias will still be approximately around 0.2%. \n"
   ]
  },
  {
   "cell_type": "code",
   "execution_count": 81,
   "metadata": {},
   "outputs": [],
   "source": [
    "#splitting into training and test set\n",
    "dataset_train, dataset_test = dataset_german.split([0.7], shuffle=True)\n",
    "\n",
    "privileged_groups = [{'age': 1}]\n",
    "unprivileged_groups = [{'age': 0}]"
   ]
  },
  {
   "cell_type": "code",
   "execution_count": 82,
   "metadata": {},
   "outputs": [
    {
     "data": {
      "text/markdown": [
       "#### Original training dataset"
      ],
      "text/plain": [
       "<IPython.core.display.Markdown object>"
      ]
     },
     "metadata": {},
     "output_type": "display_data"
    },
    {
     "name": "stdout",
     "output_type": "stream",
     "text": [
      "Difference in mean outcomes between unprivileged and privileged groups = -0.146995\n",
      "Mean ourcomes differences between unprivileged and privileged groups = -0.12854990969960323\n"
     ]
    }
   ],
   "source": [
    "# Detecting bias in the original dataset\n",
    "# Class for computing metrics based on a single BinaryLabelDataset.\n",
    "#provileged gropp are people over 25 \n",
    "#unprovileged groups are people under 25\n",
    "# mean_difference computes the statistical parity difference\n",
    "\n",
    "# Pr(Y=1|D=unprivileged)−Pr(Y=1|D=privileged)\n",
    "# statistical parity is one of the dimension of fairness in a dataset. \n",
    "\n",
    "\n",
    "metric_orig_train = BinaryLabelDatasetMetric(dataset_train, \n",
    "                                             unprivileged_groups=unprivileged_groups,\n",
    "                                             privileged_groups=privileged_groups)\n",
    "\n",
    "\n",
    "metric_german = BinaryLabelDatasetMetric(dataset_german, \n",
    "                                             unprivileged_groups=unprivileged_groups,\n",
    "                                             privileged_groups=privileged_groups)\n",
    "\n",
    "\n",
    "display(Markdown(\"#### Original training dataset\"))\n",
    "print(\"Difference in mean outcomes between unprivileged and privileged groups = %f\" % metric_orig_train.mean_difference())\n",
    "\n",
    "print(\"Mean ourcomes differences between unprivileged and privileged groups = {}\".format(metric_german.mean_difference()))"
   ]
  },
  {
   "cell_type": "code",
   "execution_count": 83,
   "metadata": {},
   "outputs": [
    {
     "data": {
      "text/plain": [
       "1.0    700\n",
       "0.0    300\n",
       "Name: label, dtype: int64"
      ]
     },
     "execution_count": 83,
     "metadata": {},
     "output_type": "execute_result"
    }
   ],
   "source": [
    "x_german, xprime_german, y_german = extract_df_from_ds(dataset_german)\n",
    "x_german['label'] = y_german\n",
    "x_german['label'].value_counts()"
   ]
  },
  {
   "cell_type": "markdown",
   "metadata": {},
   "source": [
    "TODO may be try what would happene if we train a model on it without any migitation measure?"
   ]
  },
  {
   "cell_type": "markdown",
   "metadata": {},
   "source": [
    "## 4. Supervised learning with biased datasets ##\n",
    "Supervised leraning is a goroup of machine learning methods that uses the training data and learns how to map the features and label(s) pairs. In our case, we can use the German Credit Dataset to train a supervised learning model that predits whether is a person described by features listed above is credit worthy or not. \n",
    "\n",
    "However, we have demonstrated that the data is biased towards young people in that they are less likely to be decided as creditworthy in our example. In supervised learning, the dataset is used create a model that learns to predict from it. The consequence of this is that, the biases in the training dataset will be present in the supervised learning model created from it. \n",
    "\n",
    "This will be demostrated here with a simple LinearRegression model and a DecisionTreeClassifier model\n"
   ]
  },
  {
   "cell_type": "code",
   "execution_count": 84,
   "metadata": {},
   "outputs": [],
   "source": [
    "from sklearn.linear_model import LinearRegression\n",
    "\n",
    "#breaking down into x and y is necessary for usking sk learn models\n",
    "x_german_train_, xprime_german_train, y_german_train = extract_df_from_ds(dataset_train)\n",
    "x_german_test, xprime_german_test, y_german_test = extract_df_from_ds(dataset_test)\n"
   ]
  },
  {
   "cell_type": "code",
   "execution_count": 85,
   "metadata": {},
   "outputs": [
    {
     "data": {
      "text/plain": [
       "0.2843893375107267"
      ]
     },
     "execution_count": 85,
     "metadata": {},
     "output_type": "execute_result"
    }
   ],
   "source": [
    "linearRegressionModel = LinearRegression().fit(x_german_train_, y_german_train) ## create a linear regression model and train it on the data\n",
    "linearRegressionModel.score(x_german_train_, y_german_train) ## damn worst than a coin toss"
   ]
  },
  {
   "cell_type": "code",
   "execution_count": 86,
   "metadata": {},
   "outputs": [
    {
     "name": "stdout",
     "output_type": "stream",
     "text": [
      "1.0\n",
      "0.69\n"
     ]
    }
   ],
   "source": [
    "#dataset is one hot encoded so trees are not that good\n",
    "\n",
    "from sklearn.tree import DecisionTreeClassifier\n",
    "treeClf = DecisionTreeClassifier(random_state=0)\n",
    "treeClf.fit(x_german_train_, y_german_train)\n",
    "print(treeClf.score(x_german_train_, y_german_train)) ## tree overfits\n",
    "print(treeClf.score(x_german_test, y_german_test))"
   ]
  },
  {
   "cell_type": "code",
   "execution_count": 87,
   "metadata": {},
   "outputs": [
    {
     "name": "stdout",
     "output_type": "stream",
     "text": [
      "0.8942857142857142\n",
      "0.7433333333333333\n"
     ]
    }
   ],
   "source": [
    "#trying SVM\n",
    "from sklearn.svm import SVC\n",
    "from sklearn.pipeline import make_pipeline\n",
    "from sklearn.preprocessing import StandardScaler\n",
    "svmClf = make_pipeline(StandardScaler(), SVC(gamma='auto'))\n",
    "svmClf.fit(x_german_train_, y_german_train)\n",
    "\n",
    "print(svmClf.score(x_german_train_, y_german_train)) ## svm is fine\n",
    "print(svmClf.score(x_german_test, y_german_test))"
   ]
  },
  {
   "cell_type": "code",
   "execution_count": 88,
   "metadata": {},
   "outputs": [],
   "source": [
    "from aif360.sklearn.metrics import statistical_parity_difference\n",
    "##Fairness of the classifier on the training dataset\n",
    "yhat_german_test = svmClf.predict(x_german_test)\n",
    "yhat_german_train = svmClf.predict(x_german_train_)\n",
    "\n",
    "\n",
    "# Evaluation in entire dataset\n",
    "x_german, xprime_german, y_german = extract_df_from_ds(dataset_german)\n",
    "\n",
    "yhat_german_dataset = svmClf.predict(x_german)\n",
    "\n",
    "#statistical_parity_difference(y_german_test,yhat_german_test, prot_attr='age', priv_group=1, pos_label=1)\n",
    "#CONVERTING TO STANDARD DATASET TO TRY\n",
    "\n",
    "#test_predicted_dataset = StandardDataset ()\n"
   ]
  },
  {
   "cell_type": "markdown",
   "metadata": {},
   "source": [
    "#### Computing mean difference manually ####"
   ]
  },
  {
   "cell_type": "code",
   "execution_count": 91,
   "metadata": {},
   "outputs": [
    {
     "name": "stdout",
     "output_type": "stream",
     "text": [
      "1.0    494\n",
      "0.0    206\n",
      "Name: labels__, dtype: int64\n",
      "590 430\n",
      "110 64\n",
      "Statistical parity difference in the original training dataset is >-0.14699537750385205.\n",
      "1.0    556\n",
      "0.0    144\n",
      "Name: labels__, dtype: int64\n",
      "590 484\n",
      "110 72\n",
      "Statistical parity difference in the trained Decision Tree Classifier is -0.16579352850539286\n",
      "1.0    817\n",
      "0.0    183\n",
      "Name: labels__, dtype: int64\n",
      "851 713\n",
      "149 104\n",
      "Statistical parity difference in the trained Decision Tree Classifier on entire dataset is -0.13985126065662978\n"
     ]
    }
   ],
   "source": [
    "def compute_mean_difference(features, prediction_labels, pos_label, privileged_columnname, privileged_value):\n",
    "    \"\"\"\n",
    "    Calculate the statistical parity diffrence for the positive outcome between privileged and unprivileged group. \n",
    "        Pr(Y^=pos_label|D=unprivileged)−Pr(Y^=pos_label|D=privileged)\n",
    "\n",
    "    features - features usually represented by X value\n",
    "    predition_labels -- Predition label for the feature Y value\n",
    "    pos_label -- The positive label. Label for the positive outcome\n",
    "    privileged_column -- the column which decides what feature is privileged or not\n",
    "    privileged_value -- the value of the privilege class\n",
    "    \"\"\"\n",
    "    fulldataset = features.copy()\n",
    "    fulldataset['labels__'] = prediction_labels\n",
    "    \n",
    "    print(fulldataset['labels__'].value_counts())\n",
    "    \n",
    "    privilege_count = fulldataset.loc[fulldataset[privileged_columnname]==privileged_value][privileged_columnname].count() \n",
    "    privileged_positive_count = fulldataset.loc[(fulldataset[privileged_columnname]==privileged_value) & (fulldataset.iloc[:,-1] == pos_label )][privileged_columnname].count() \n",
    "    print(privilege_count,privileged_positive_count)\n",
    "    \n",
    "    unprivilege_count = fulldataset.loc[fulldataset[privileged_columnname]!=privileged_value][privileged_columnname].count() \n",
    "    unprivileged_positive_count = fulldataset.loc[(fulldataset[privileged_columnname]!=privileged_value) & (fulldataset.iloc[:,-1] == pos_label )][privileged_columnname].count() \n",
    "    print(unprivilege_count,unprivileged_positive_count)\n",
    "    \n",
    "    unprivileged_positive_probability = unprivileged_positive_count/unprivilege_count\n",
    "    privileged_positive_probability = privileged_positive_count/privilege_count\n",
    "    \n",
    "    \n",
    "    return unprivileged_positive_probability - privileged_positive_probability\n",
    "#age 1 age > 25 is the privileged group \n",
    "#label 1 credit approved is the provileged value\n",
    "print(\"Statistical parity difference in the original training dataset is >{}.\"\\\n",
    "      .format(compute_mean_difference(x_german_train_, y_german_train, 1, 'age', 1)))\n",
    "\n",
    "print(\"Statistical parity difference in the trained SVM classifier is {}\".\\\n",
    "      format(compute_mean_difference(x_german_train_, yhat_german_train, 1, 'age', 1)))\n",
    "\n",
    "mean_difference_no_mitigation = compute_mean_difference(x_german, yhat_german_dataset, 1, 'age', 1)\n",
    "print(\"Statistical parity difference in the trained Decision Tree Classifier on entire dataset is {}\".\\\n",
    "      format(mean_difference_no_mitigation))\n"
   ]
  },
  {
   "cell_type": "markdown",
   "metadata": {},
   "source": [
    "### Bias on the training dataset is amplified by the SVM classifier ###"
   ]
  },
  {
   "cell_type": "markdown",
   "metadata": {},
   "source": [
    "## 5. Migitating bias using GerryFairClassifier in process migitation. ##\n",
    "\n",
    "Mitigate bias by usign in-process method called GerryFairClassifier of AIF360 package.\n",
    "\n",
    "Model is an algorithm for learning classifiers that are fair with respect to rich subgroups.\n",
    "\n",
    "Rich subgroups are defined by (linear) functions over the sensitive attributes, and fairness notions are statistical: false positive, false negative, and statistical parity rates. This implementation uses a max of two regressions as a cost-sensitive classification oracle, and supports linear regression, support vector machines, decision trees, and kernel regression. For details see:\n",
    "\n",
    "“Preventing Fairness Gerrymandering: Auditing and Learning for Subgroup Fairness.” Michale Kearns, Seth Neel, Aaron Roth, Steven Wu. ICML ‘18.\n",
    "\n",
    "It uses linear regression by default.\n",
    "\n"
   ]
  },
  {
   "cell_type": "markdown",
   "metadata": {},
   "source": [
    "### 5.1 Rewriting labels for GerryFairClassifier ###\n",
    "The labels used the german dataset for creditwroth or not credit worthy are 1 and 2 respectively. In order to make it work with GerryFairClassifier it has to be set to 1 and 2"
   ]
  },
  {
   "cell_type": "code",
   "execution_count": 92,
   "metadata": {},
   "outputs": [],
   "source": [
    "from aif360.algorithms.inprocessing import GerryFairClassifier\n",
    "from aif360.algorithms.inprocessing.gerryfair.clean import array_to_tuple\n",
    "from aif360.algorithms.inprocessing.gerryfair.auditor import Auditor\n",
    "from aif360.algorithms.preprocessing.optim_preproc_helpers.data_preproc_functions import \\\n",
    "load_preproc_data_adult, load_preproc_data_german, load_preproc_data_compas\n",
    "from sklearn import svm\n",
    "from sklearn import tree\n",
    "from sklearn.kernel_ridge import KernelRidge\n",
    "from sklearn import linear_model\n",
    "from aif360.metrics import BinaryLabelDatasetMetric\n",
    "from IPython.display import Image\n",
    "import pickle\n",
    "import matplotlib.pyplot as plt\n",
    "import pandas as pd\n",
    "from aif360.datasets import StructuredDataset\n"
   ]
  },
  {
   "cell_type": "code",
   "execution_count": 93,
   "metadata": {
    "pycharm": {
     "is_executing": false
    }
   },
   "outputs": [],
   "source": [
    "# load data set\n",
    "\n",
    "#load the german dataset  load_preproc_data_compas()\n",
    "#german_data_set = load_preproc_data_german()\n",
    "# load_preproc_data_german is a wrapper for GermanDataset\n",
    "#try to rewrite thelabels from 1 and 2 to 0 and 1\n",
    "#         attributes = {\n",
    "#            \"feature_names\": self.feature_names,\n",
    "#            \"label_names\": self.label_names,\n",
    "#            \"protected_attribute_names\": self.protected_attribute_names,\n",
    "#            \"instance_names\": self.instance_names,\n",
    "#            \"instance_weights\": self.instance_weights,\n",
    "#            \"privileged_protected_attributes\": self.privileged_protected_attributes,\n",
    "#            \"unprivileged_protected_attributes\": self.unprivileged_protected_attributes\n",
    "#        }\n"
   ]
  },
  {
   "cell_type": "code",
   "execution_count": 94,
   "metadata": {},
   "outputs": [],
   "source": [
    "from aif360.datasets import GermanDataset\n",
    "\n",
    "german_data_set = GermanDataset(\n",
    "    protected_attribute_names=['age'],           # this dataset also contains protected\n",
    "                                                 # attribute for \"sex\" which we do not\n",
    "                                                 # consider in this evaluation\n",
    "    privileged_classes=[lambda x: x >= 25],      # age >=25 is considered privileged\n",
    "    features_to_drop=['personal_status', 'sex'] # ignore sex-related attributes\n",
    ")\n",
    "\n",
    "german_data_set = load_preproc_data_german(protected_attributes=['age'])\n",
    "\n",
    "\n",
    "## itis 0 and 1 for the other dataset\n",
    "## it is 1 and 2 for this dataset\n",
    "# x_prime is age and sex \n",
    "# y is 1.0 and 2.0\n",
    "#X is ['age',\n",
    "# 'employment=Unemployed',\n",
    "# 'credit_history=Other',\n",
    "# 'savings=Unknown/None',\n",
    "# 'employment=1-4 years',\n",
    "# 'employment=4+ years',\n",
    "# 'sex',\n",
    "# 'credit_history=None/Paid',\n",
    "# 'savings=500+',\n",
    "# 'savings=<500',\n",
    "# 'credit_history=Delay']\n"
   ]
  },
  {
   "cell_type": "markdown",
   "metadata": {},
   "source": [
    "### 5.2 Training the GerryFairClassifier ###\n",
    "**instantiate, fit, and predict** \n",
    "\n",
    "\n",
    "We first demonstrate how to instantiate a `GerryFairClassifier`, `train` it with respect to rich subgroup fairness, and `predict` the label of a new example. We remark that when we set the `print_flag = True` at each iteration of the algorithm we print the error, fairness violation, and violated group size of most recent model. The error is the classification error of the classifier. At each round the Learner tries to find a classifier that minimizes the classification error plus a weighted sum of the fairness disparities on all the groups that the Auditor has found up until that point. By contrast the Auditor tries to find the group at each round with the greatest rich subgroup disparity with respect to the Learner's model. We define `violated group size` as the size (as a fraction of the dataset size) of this group, and the `fairness violation` as the `violated group size` times the difference in the statistical rate (FP or FN rate) on the group vs. the whole population. \n",
    "\n",
    "In the example below we set `max_iterations=500` which is an order of magnitude less than the time to convergence observed in [the rich subgroup fairness empirical paper](https://arxiv.org/abs/1808.08166), but advise that this can be highly dataset dependent. Our target $\\gamma$-disparity is $\\gamma = .005$, our statistical rate is false positive rate or `FP`, and our cost-sensitive classification oracle is linear regression (more on that below). \n"
   ]
  },
  {
   "cell_type": "code",
   "execution_count": 137,
   "metadata": {
    "pycharm": {
     "is_executing": true
    },
    "scrolled": true
   },
   "outputs": [
    {
     "name": "stdout",
     "output_type": "stream",
     "text": [
      "iteration: 1, error: 0.3, fairness violation: 0.0, violated group size: 0.0\n",
      "iteration: 2, error: 0.2945, fairness violation: 0.0022383333333333344, violated group size: 0.061\n",
      "iteration: 3, error: 0.29733333333333334, fairness violation: 0.001595555555555606, violated group size: 0.239\n",
      "iteration: 4, error: 0.298, fairness violation: 0.0011966666666666913, violated group size: 0.239\n",
      "iteration: 5, error: 0.2984, fairness violation: 0.0009573333333333531, violated group size: 0.239\n",
      "iteration: 6, error: 0.2986666666666667, fairness violation: 0.0007977777777777833, violated group size: 0.061\n",
      "iteration: 7, error: 0.2988571428571429, fairness violation: 0.0006838095238095237, violated group size: 0.061\n",
      "iteration: 8, error: 0.299, fairness violation: 0.0005983333333333358, violated group size: 0.061\n",
      "iteration: 9, error: 0.3081111111111111, fairness violation: 0.0003181481481481677, violated group size: 0.061\n"
     ]
    }
   ],
   "source": [
    "C = 1 # C – Maximum L1 Norm for the Dual Variables (hyperparameter)\n",
    "print_flag = True\n",
    "gamma = 0.00005 #.005\n",
    "max_iterations = 10\n",
    "\n",
    "svmClassifier = SVC(gamma='auto')\n",
    "svm_predictor = svm.LinearSVR()\n",
    "\n",
    "#\n",
    "fair_model = GerryFairClassifier(C=C, printflag=print_flag, gamma=gamma, fairness_def='FP', predictor=svm_predictor,\n",
    "             max_iters=max_iterations, heatmapflag=False)\n",
    "\n",
    "# fit method train the GerryFair classifier\n",
    "fair_model.fit(dataset_german, early_termination=True)\n",
    "\n",
    "# predict method. If threshold in (0, 1) produces binary predictions\n",
    "\n",
    "dataset_yhat = fair_model.predict(dataset_german, threshold=True)\n"
   ]
  },
  {
   "cell_type": "markdown",
   "metadata": {},
   "source": [
    "#### Evaluating the statistical parity difference of the gerry fair classifier ####"
   ]
  },
  {
   "cell_type": "code",
   "execution_count": 139,
   "metadata": {},
   "outputs": [
    {
     "name": "stdout",
     "output_type": "stream",
     "text": [
      "1    602\n",
      "0    398\n",
      "Name: labels__, dtype: int64\n",
      "851 515\n",
      "149 87\n",
      "-0.02127777032941891\n",
      "Difference in mean outcomes between unprivileged and privileged groups = -0.021278 on entire dataset\n"
     ]
    }
   ],
   "source": [
    "x_german_all, xprime_german_all, y_german_all = extract_df_from_ds(dataset_yhat)\n",
    "print(compute_mean_difference(x_german_all, y_german_all, 1, 'age', 1))\n",
    "\n",
    "\n",
    "metric_german = BinaryLabelDatasetMetric(dataset_yhat, \n",
    "                                             unprivileged_groups=unprivileged_groups,\n",
    "                                             privileged_groups=privileged_groups)\n",
    "\n",
    "\n",
    "print(\"Difference in mean outcomes between unprivileged and privileged groups = %f on entire dataset\" % metric_german.mean_difference())"
   ]
  },
  {
   "cell_type": "markdown",
   "metadata": {},
   "source": [
    "**3-d heatmaps**\n",
    "\n",
    "We now show to generate a 3d-heatmap of unfairness using the `generate_heatmap` method. The $X-Y$ axes in the plot represent the coefficients of the linear threshold function that defines a protected subgroup with respect to the first two sensitive attributes. Which $2$ attributes are considered sensitive can be overwritten with the `col_index` argument. The $Z$-axes is the $\\gamma$-disparity (FP) of the corresponding subgroup defined by the linear threshold function. This is important because it allows us to (1) visualize convergence as the heatmap flattens and (2) brute force check the fairness in low-dimensions without relying on a heuristic auditor. See the [the rich subgroup fairness empirical paper](https://arxiv.org/abs/1808.08166) for a discussion of these plots. Note that in the below plot no group has a $\\gamma$-disparity of greater than $.005$, which we would expect since the set of linear threshold functions on two attributes is a subset of the set of linear threshold functions on all protected attributes, and the final model is $\\gamma$-fair. "
   ]
  },
  {
   "cell_type": "markdown",
   "metadata": {},
   "source": [
    "Short explaination for the heatmaps\n",
    "z value is the current false positive discrepancy for the subgroup\n",
    "\n",
    "The x − y axes are the\n",
    "coefficients of θ corresponding to whitepct and blackpct respectively, and the z-axis is the γ-unfairness of the\n",
    "corresponding subgroup. This is our first non-heuristic view of γ-unfairness, and also shows us the entire\n",
    "surface of γ-unfairness, rather than just the most violated subgroup. Note that perfect subgroup fairness\n",
    "would correspond to an entirely flat discrimination surface at z = 0."
   ]
  },
  {
   "cell_type": "code",
   "execution_count": 141,
   "metadata": {
    "pycharm": {
     "is_executing": true
    }
   },
   "outputs": [
    {
     "name": "stderr",
     "output_type": "stream",
     "text": [
      "ERROR:root:Internal Python error in the inspect module.\n",
      "Below is the traceback from this internal error.\n",
      "\n"
     ]
    },
    {
     "name": "stdout",
     "output_type": "stream",
     "text": [
      "Traceback (most recent call last):\n",
      "  File \"D:\\INFO284\\anacondabase\\lib\\site-packages\\IPython\\core\\interactiveshell.py\", line 3326, in run_code\n",
      "    exec(code_obj, self.user_global_ns, self.user_ns)\n",
      "  File \"<ipython-input-141-de26efc540b4>\", line 5, in <module>\n",
      "    fair_model.generate_heatmap(dataset_german, dataset_yhat.labels)\n",
      "  File \"D:\\INFO284\\anacondabase\\lib\\site-packages\\aif360\\algorithms\\transformer.py\", line 27, in wrapper\n",
      "    new_dataset = func(self, *args, **kwargs)\n",
      "  File \"D:\\INFO284\\anacondabase\\lib\\site-packages\\aif360\\algorithms\\inprocessing\\gerryfair_classifier.py\", line 252, in generate_heatmap\n",
      "    X_prime_heat = X_prime.iloc[:, cols_index]\n",
      "  File \"D:\\INFO284\\anacondabase\\lib\\site-packages\\pandas\\core\\indexing.py\", line 1418, in __getitem__\n",
      "    return self._getitem_tuple(key)\n",
      "  File \"D:\\INFO284\\anacondabase\\lib\\site-packages\\pandas\\core\\indexing.py\", line 2092, in _getitem_tuple\n",
      "    self._has_valid_tuple(tup)\n",
      "  File \"D:\\INFO284\\anacondabase\\lib\\site-packages\\pandas\\core\\indexing.py\", line 235, in _has_valid_tuple\n",
      "    self._validate_key(k, i)\n",
      "  File \"D:\\INFO284\\anacondabase\\lib\\site-packages\\pandas\\core\\indexing.py\", line 2031, in _validate_key\n",
      "    raise IndexError(\"positional indexers are out-of-bounds\")\n",
      "IndexError: positional indexers are out-of-bounds\n",
      "\n",
      "During handling of the above exception, another exception occurred:\n",
      "\n",
      "Traceback (most recent call last):\n",
      "  File \"D:\\INFO284\\anacondabase\\lib\\site-packages\\IPython\\core\\interactiveshell.py\", line 2040, in showtraceback\n",
      "    stb = value._render_traceback_()\n",
      "AttributeError: 'IndexError' object has no attribute '_render_traceback_'\n",
      "\n",
      "During handling of the above exception, another exception occurred:\n",
      "\n",
      "Traceback (most recent call last):\n",
      "  File \"D:\\INFO284\\anacondabase\\lib\\site-packages\\IPython\\core\\ultratb.py\", line 1101, in get_records\n",
      "    return _fixed_getinnerframes(etb, number_of_lines_of_context, tb_offset)\n",
      "  File \"D:\\INFO284\\anacondabase\\lib\\site-packages\\IPython\\core\\ultratb.py\", line 319, in wrapped\n",
      "    return f(*args, **kwargs)\n",
      "  File \"D:\\INFO284\\anacondabase\\lib\\site-packages\\IPython\\core\\ultratb.py\", line 353, in _fixed_getinnerframes\n",
      "    records = fix_frame_records_filenames(inspect.getinnerframes(etb, context))\n",
      "  File \"D:\\INFO284\\anacondabase\\lib\\inspect.py\", line 1502, in getinnerframes\n",
      "    frameinfo = (tb.tb_frame,) + getframeinfo(tb, context)\n",
      "  File \"D:\\INFO284\\anacondabase\\lib\\inspect.py\", line 1460, in getframeinfo\n",
      "    filename = getsourcefile(frame) or getfile(frame)\n",
      "  File \"D:\\INFO284\\anacondabase\\lib\\inspect.py\", line 696, in getsourcefile\n",
      "    if getattr(getmodule(object, filename), '__loader__', None) is not None:\n",
      "  File \"D:\\INFO284\\anacondabase\\lib\\inspect.py\", line 733, in getmodule\n",
      "    if ismodule(module) and hasattr(module, '__file__'):\n",
      "  File \"D:\\INFO284\\anacondabase\\lib\\site-packages\\tensorflow\\__init__.py\", line 50, in __getattr__\n",
      "    module = self._load()\n",
      "  File \"D:\\INFO284\\anacondabase\\lib\\site-packages\\tensorflow\\__init__.py\", line 44, in _load\n",
      "    module = _importlib.import_module(self.__name__)\n",
      "  File \"D:\\INFO284\\anacondabase\\lib\\importlib\\__init__.py\", line 127, in import_module\n",
      "    return _bootstrap._gcd_import(name[level:], package, level)\n",
      "  File \"<frozen importlib._bootstrap>\", line 1006, in _gcd_import\n",
      "  File \"<frozen importlib._bootstrap>\", line 983, in _find_and_load\n",
      "  File \"<frozen importlib._bootstrap>\", line 965, in _find_and_load_unlocked\n",
      "ModuleNotFoundError: No module named 'tensorflow_core.estimator'\n"
     ]
    },
    {
     "ename": "IndexError",
     "evalue": "positional indexers are out-of-bounds",
     "output_type": "error",
     "traceback": [
      "\u001b[1;31m---------------------------------------------------------------------------\u001b[0m"
     ]
    }
   ],
   "source": [
    "# output heatmap (brute force)\n",
    "# replace None with the relative path if you want to save the plot\n",
    "fair_model.heatmapflag = True\n",
    "fair_model.heatmap_path  = 'heatmap'\n",
    "fair_model.generate_heatmap(dataset_german, dataset_yhat.labels)\n",
    "Image(filename='{}.png'.format(fair_model.heatmap_path)) \n"
   ]
  },
  {
   "cell_type": "markdown",
   "metadata": {},
   "source": [
    "**black-box auditing**\n",
    "\n",
    "We now show to audit any black box classifier with respect to rich subgroup fairness under either FP or FN rate. Note the below auditing procedure would work for any set of (soft) predictions $\\hat{y}$, and need make no assumptions about the structure of the predictor. We note that as expected the disparity of the group found is the same as the disparity printed out in the last iteration of the `fit` method.\n",
    "   "
   ]
  },
  {
   "cell_type": "code",
   "execution_count": 142,
   "metadata": {
    "pycharm": {
     "is_executing": true
    }
   },
   "outputs": [
    {
     "name": "stdout",
     "output_type": "stream",
     "text": [
      "0.004400000000000004\n"
     ]
    }
   ],
   "source": [
    "gerry_metric = BinaryLabelDatasetMetric(german_data_set)\n",
    "\n",
    "gamma_disparity = gerry_metric.rich_subgroup(array_to_tuple(dataset_yhat.labels), 'FP')\n",
    "print(gamma_disparity)\n"
   ]
  },
  {
   "cell_type": "markdown",
   "metadata": {},
   "source": [
    "**pareto curves**\n",
    "\n",
    "The `FairFictPlay` algorithm implemented in the `fit` method converges given access to perfect oracles for solving cost-sensitive classification (CSC) problems. A cost-sensitive classification problem over a hypothesis class $\\mathcal{H}$ is $$\\min_{h}\\sum_{i = 1}^{n}(1-h(x_i))c_0 + h(x_i)c_1$$\n",
    "By default in this package, and in the companion [empirical](https://arxiv.org/abs/1808.08166) and [theory](https://arxiv.org/pdf/1711.05144.pdf) papers, the hypothesis class of the learner and the of the subgroups are hyperplanes. The corresponding heuristic oracle for solving the CSC problem first forms two regression problems $(x_i, c_0)$ and $(x_i, c_1)$. Then in the case of hyperplanes, trains two regressions $r_i: \\mathcal{X} \\to R$ which predict the costs of classifying a given point $x$ $0,1$ respectively. Finally the binary classifier output by the oracle is defined as $\\hat{r}(x) = \\arg\\min_{j \\in \\{0,1\\}}r_j(x)$. But of course if we are interesting in different hypothesis classes for the learner, we simply need different regressors. In this package in addition to linear regression, we've added support for regression trees, kernelized ridge regression, and support vector regression. Below we trace out Pareto curves of $\\gamma$-disparity vs. error for each of these different heuristic oracles. "
   ]
  },
  {
   "cell_type": "code",
   "execution_count": 143,
   "metadata": {
    "pycharm": {
     "is_executing": true
    }
   },
   "outputs": [
    {
     "name": "stdout",
     "output_type": "stream",
     "text": [
      "Curr Predictor: Linear\n",
      "Curr Predictor: SVR\n",
      "Curr Predictor: Tree\n",
      "Curr Predictor: Kernel\n"
     ]
    },
    {
     "data": {
      "image/png": "[encoded data removed]",
      "text/plain": [
       "<IPython.core.display.Image object>"
      ]
     },
     "execution_count": 143,
     "metadata": {},
     "output_type": "execute_result"
    }
   ],
   "source": [
    "# set to 50 iterations for fast running of notebook - set >= 1000 when running real experiments\n",
    "pareto_iters = 50\n",
    "def multiple_classifiers_pareto(dataset, gamma_list=[0.002, 0.005, 0.01, 0.02, 0.05, 0.1], save_results=False, iters=pareto_iters):\n",
    "\n",
    "    ln_predictor = linear_model.LinearRegression()\n",
    "    svm_predictor = svm.LinearSVR()\n",
    "    tree_predictor = tree.DecisionTreeRegressor(max_depth=3)\n",
    "    kernel_predictor = KernelRidge(alpha=1.0, gamma=1.0, kernel='rbf')\n",
    "    predictor_dict = {'Linear': {'predictor': ln_predictor, 'iters': iters},\n",
    "                      'SVR': {'predictor': svm_predictor, 'iters': iters},\n",
    "                      'Tree': {'predictor': tree_predictor, 'iters': iters},\n",
    "                      'Kernel': {'predictor': kernel_predictor, 'iters': iters}}\n",
    "\n",
    "    results_dict = {}\n",
    "\n",
    "    for pred in predictor_dict:\n",
    "        print('Curr Predictor: {}'.format(pred))\n",
    "        predictor = predictor_dict[pred]['predictor']\n",
    "        max_iters = predictor_dict[pred]['iters']\n",
    "        fair_clf = GerryFairClassifier(C=100, printflag=True, gamma=1, predictor=predictor, max_iters=max_iters)\n",
    "        fair_clf.printflag = False\n",
    "        fair_clf.max_iters=max_iters\n",
    "        errors, fp_violations, fn_violations = fair_clf.pareto(dataset, gamma_list)\n",
    "        results_dict[pred] = {'errors': errors, 'fp_violations': fp_violations, 'fn_violations': fn_violations}\n",
    "        plt.plot(errors, fp_violations, label=pred)\n",
    "\n",
    "    if save_results:\n",
    "        pickle.dump(results_dict, open('results_dict_' + str(gamma_list) + '_gammas' + str(gamma_list) + '.pkl', 'wb'))\n",
    "\n",
    "    plt.xlabel('Error')\n",
    "    plt.ylabel('Unfairness')\n",
    "    plt.legend()\n",
    "    plt.title('Error vs. Unfairness\\n(Adult Dataset)')\n",
    "    plt.savefig('gerryfair_pareto.png')\n",
    "    plt.close()\n",
    "multiple_classifiers_pareto(german_data_set)\n",
    "Image(filename='gerryfair_pareto.png') "
   ]
  },
  {
   "cell_type": "markdown",
   "metadata": {},
   "source": [
    "A natural question one might ask is, suppose we fix a statistical fairness definition for rich subgroup fairness like equality of false positive rates, `FP`. Does learning a classifier that is fair with respect to `FP` increase or decrease fairness with respect to false negative rates `FN`? One could see this relationship going in either direction - and indeed we submit that it is dataset dependent. In some cases, if enforcing `FP` fairness pushes the classifier towards the constant classifier, then it will also satisify `FN` rate fairness, since the constant classifier is perfectly fair. However, if the hypothesis class is sufficiently rich, then one would expect that ceteris paribus since we are optimizing for error in addition to `FP` rate fairness, the algorithm would increase `FN` rate unfairness in order to decrease error. Below we trace the FN vs. FP rate tradeoff across a range of input $\\gamma$, where the classifier is optimized only for `FP` rate fairness. "
   ]
  },
  {
   "cell_type": "code",
   "execution_count": 144,
   "metadata": {
    "pycharm": {
     "is_executing": true
    }
   },
   "outputs": [
    {
     "name": "stdout",
     "output_type": "stream",
     "text": [
      "gamma: 0.001  gamma: 0.002  gamma: 0.003  gamma: 0.004  gamma: 0.005  gamma: 0.0075  gamma: 0.01  gamma: 0.02  gamma: 0.03  gamma: 0.05  "
     ]
    },
    {
     "data": {
      "image/png": "[encoded data removed]",
      "text/plain": [
       "<IPython.core.display.Image object>"
      ]
     },
     "execution_count": 144,
     "metadata": {},
     "output_type": "execute_result"
    }
   ],
   "source": [
    "def fp_vs_fn(dataset, gamma_list, iters):\n",
    "    fp_auditor = Auditor(dataset, 'FP')\n",
    "    fn_auditor = Auditor(dataset, 'FN')\n",
    "    fp_violations = []\n",
    "    fn_violations = []\n",
    "    for g in gamma_list:\n",
    "        print('gamma: {} '.format(g), end =\" \")\n",
    "        fair_model = GerryFairClassifier(C=100, printflag=False, gamma=g, max_iters=iters)\n",
    "        fair_model.gamma=g\n",
    "        fair_model.fit(dataset)\n",
    "        predictions = array_to_tuple((fair_model.predict(dataset)).labels)\n",
    "        _, fp_diff = fp_auditor.audit(predictions)\n",
    "        _, fn_diff = fn_auditor.audit(predictions)\n",
    "        fp_violations.append(fp_diff)\n",
    "        fn_violations.append(fn_diff)\n",
    "\n",
    "    plt.plot(fp_violations, fn_violations, label='adult')\n",
    "    plt.xlabel('False Positive Disparity')\n",
    "    plt.ylabel('False Negative Disparity')\n",
    "    plt.legend()\n",
    "    plt.title('FP vs FN Unfairness')\n",
    "    plt.savefig('gerryfair_fp_fn.png')\n",
    "    plt.close()\n",
    "\n",
    "gamma_list = [0.001, 0.002, 0.003, 0.004, 0.005, 0.0075, 0.01, 0.02, 0.03, 0.05]\n",
    "fp_vs_fn(german_data_set, gamma_list, pareto_iters)\n",
    "Image(filename='gerryfair_fp_fn.png')"
   ]
  },
  {
   "cell_type": "code",
   "execution_count": null,
   "metadata": {
    "pycharm": {
     "is_executing": true
    }
   },
   "outputs": [],
   "source": []
  }
 ],
 "metadata": {
  "kernelspec": {
   "display_name": "Python 3",
   "language": "python",
   "name": "python3"
  },
  "language_info": {
   "codemirror_mode": {
    "name": "ipython",
    "version": 3
   },
   "file_extension": ".py",
   "mimetype": "text/x-python",
   "name": "python",
   "nbconvert_exporter": "python",
   "pygments_lexer": "ipython3",
   "version": "3.7.4"
  },
  "pycharm": {
   "stem_cell": {
    "cell_type": "raw",
    "metadata": {
     "collapsed": false
    },
    "source": []
   }
  }
 },
 "nbformat": 4,
 "nbformat_minor": 1
}
